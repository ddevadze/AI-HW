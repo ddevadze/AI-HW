{
 "cells": [
  {
   "cell_type": "markdown",
   "metadata": {
    "slideshow": {
     "slide_type": "notes"
    }
   },
   "source": [
    "**David Devadze**\n",
    "**Artificial Inteligence (CS550)**\n",
    "\n",
    "Title: **Homework №2**\n",
    "<br>\n",
    "Deadline: **6 May 2020**\n",
    "\n",
    "Homework will be evaluated maximum by **6 points**.\n",
    "Each problem is **one point**. "
   ]
  },
  {
   "cell_type": "markdown",
   "metadata": {
    "slideshow": {
     "slide_type": "slide"
    }
   },
   "source": [
    "<h3 align=\"center\">Problem 1: Probability Distributions</h3>\n",
    "\n",
    "Consider the following probability distributions (choose the number that corresponds to your number in the student's list):\n",
    "0. uniform\n",
    "1. bernoulli distribution\n",
    "2. binomial distribution\n",
    "3. geometric distribution\n",
    "4. hypergeometric distribution\n",
    "5. poisson\n",
    "6. beta\n",
    "7. gamma\n",
    "8. students\n",
    "9. chi_squared\n",
    "11. Gaussian distribution\n",
    "\n",
    "Perform the following tasks:\n",
    "- define the **distribution function**\n",
    "- choose the **definition area** of the distribution function\n",
    "- **generate 1000 events** with chosen distribution function\n",
    "- add **Gaussian noise**\n",
    "- choose the **binning** and plot the **histogramm **(do not forget to normalize it)\n",
    "- **fit** the resulting histogram with the true distribution function, **identify errors**\n",
    "- make a **final graph** showing: the resulting histogram, the true distribution and the results of fitting with the identified errors\n",
    "\n",
    "**Note**: In the case of **discrete** and **continuouse** distributions, **do both**!\n",
    "\n",
    "**Note**: Do not forget to **include** the **labels and units**!\n",
    "\n",
    "**Hint**: You can use this source:\n",
    "\n",
    "https://www.boost.org/doc/libs/1_58_0/libs/math/doc/html/math_toolkit/dist_ref/dists/"
   ]
  },
  {
   "cell_type": "markdown",
   "metadata": {},
   "source": [
    "$$f(1)=p$$\n",
    "$$f(0)=1-p$$\n",
    "$$x\\in \\left[-1,2\\right]$$"
   ]
  },
  {
   "cell_type": "code",
   "execution_count": 132,
   "metadata": {},
   "outputs": [
    {
     "data": {
      "image/png": "[encoded data removed]",
      "text/plain": [
       "<Figure size 432x288 with 1 Axes>"
      ]
     },
     "metadata": {},
     "output_type": "display_data"
    },
    {
     "data": {
      "image/png": "[encoded data removed]",
      "text/plain": [
       "<Figure size 432x288 with 1 Axes>"
      ]
     },
     "metadata": {},
     "output_type": "display_data"
    }
   ],
   "source": [
    "from scipy.stats import bernoulli\n",
    "import numpy as np\n",
    "import matplotlib.pyplot as plt\n",
    "import seaborn as sns\n",
    "\n",
    "raw = bernoulli.rvs(size=1000,p=0.65)\n",
    "noise = np.random.normal(0, 0.15, size = [1000])\n",
    "\n",
    "data = raw + noise\n",
    "\n",
    "plt.hist(raw, bins=30,density=True);\n",
    "plt.xlabel('random variable x')\n",
    "plt.ylabel('probability')\n",
    "plt.title('True value')\n",
    "plt.show()\n",
    "\n",
    "plt.hist(data, bins=30, density=True)\n",
    "plt.xlabel('random variable x')\n",
    "plt.ylabel('probability')\n",
    "plt.title('With gaussian noise')\n",
    "sns.distplot(data, hist=True, kde=True, \n",
    "             bins=30,\n",
    "             kde_kws={'linewidth': 4})\n",
    "plt.show()\n",
    "\n"
   ]
  },
  {
   "cell_type": "markdown",
   "metadata": {
    "slideshow": {
     "slide_type": "slide"
    }
   },
   "source": [
    "<h3 align=\"center\">Problem 2: Bias of an Estimator</h3>\n",
    "\n",
    "Suppose $X_1, X_2, ..., X_n$ are **independent and identically distributed** (**i.i.d.**) random variables with \n",
    "**expectation** $\\mu$ and **variance** $\\sigma^2$.\n",
    "\n",
    "The **sample mean** and **uncorrected sample variance** are defined as:\n",
    "\n",
    "$$\\overline{X} = \\frac{1}{n}\\sum_{i=1}^{n} X_i \\text{ and } S^2 = \\frac{1}{n}\\sum_{i=1}^{n} \\left ( X_i - \\overline{X} \\right )^2.$$\n",
    "\n",
    "(a) Compute the **sample mean** and compare it with the **population mean** $\\mu$.\n",
    "\n",
    "(b) Compute the **expected value** of the **uncorrected sample variance**, $\\mathbf{E}[S^2]$, and compare it with the **population variance** $\\sigma^2$.\n",
    "\n",
    "(c) How to **change** the **sample variance** to get **unbiased estimator** of the **population variance** $\\sigma^2$.\n",
    "\n",
    "**Note**: the **expectation value** and the **sample mean** are different things!\n"
   ]
  },
  {
   "cell_type": "markdown",
   "metadata": {},
   "source": [
    "(a)\n",
    "$$\n",
    "E\\left(\\frac{1}{n}\\cdot \\sum _{i=1}^nX_i\\:\\right)=\\frac{1}{n}\\cdot E\\left(\\:\\sum \\:\\:\\:_{i=1}^nX_i\\right)=\\frac{1}{n}\\cdot \\sum \\:_{i=1}^nE\\left(X_i\\right)=\\frac{1}{n}\\cdot \\sum \\:_{i=1}^n\\mu =\\frac{1}{n}\\cdot n\\mu =\\mu \n",
    "$$"
   ]
  },
  {
   "cell_type": "markdown",
   "metadata": {},
   "source": [
    "(b)\n",
    "$$\n",
    "E\\left[S^2\\right]=E\\left(\\frac{1}{n}\\cdot \\:\\sum \\:_{i=1}^n\\left(X_i-\\overline{X}\\right)^2\\:\\right)=E\\left(\\frac{1}{n}\\cdot \\:\\:\\sum \\:\\:_{i=1}^n\\left(\\left(X_i-\\mu \\right)-\\left(\\overline{X}-\\mu \\right)\\right)^2\\:\\right)=E\\left(\\frac{1}{n}\\cdot \\:\\:\\:\\sum \\:\\:\\:_{i=1}^n\\left(\\left(X_i-\\mu \\:\\right)^2-2\\left(X_i-\\mu \\:\\right)\\left(\\overline{X}-\\mu \\:\\right)+\\left(\\overline{X}-\\mu \\:\\right)^2\\right)\\:\\right)=E\\left[\\frac{1}{n}\\sum _{i=1}^n\\left(X_i-\\mu \\right)^2-\\frac{2}{n}\\left(\\overline{X}-\\mu \\right)\\sum \\:_{i=1}^n\\left(X_i-\\mu \\right)+\\frac{1}{n}\\cdot n\\left(\\overline{X}-\\mu \\:\\right)^2\\:\\right]=E\\left[\\frac{1}{n}\\sum _{i=1}^n\\left(X_i-\\mu \\right)^2-\\frac{2}{n}\\left(\\overline{X}-\\mu \\right)\\sum \\:_{i=1}^n\\left(X_i-\\mu \\right)+\\left(\\overline{X}-\\mu \\:\\right)^2\\:\\right]\n",
    "$$\n",
    "$$\n",
    "\\overline{X} =\\frac{1}{n}\\sum_{i=1}^{n} X_i\n",
    "$$\n",
    "$$\n",
    "\\overline{X}-\\mu =\\frac{1}{n}\\sum_{i=1}^{n} (X_i-\\mu)\n",
    "$$\n",
    "$$\n",
    "E\\left[\\frac{1}{n}\\sum _{i=1}^n\\left(X_i-\\mu \\right)^2-\\frac{2}{n}\\left(\\overline{X}-\\mu \\right)\\sum \\:_{i=1}^n\\left(X_i-\\mu \\right)+\\left(\\overline{X}-\\mu \\:\\right)^2\\:\\right]=\n",
    "E\\left[\\frac{1}{n}\\sum _{i=1}^n\\left(X_i-\\mu \\right)^2-\\frac{2}{n}\\left(\\overline{X}-\\mu \\right)\\cdot n\\cdot \\left(\\overline{X}-\\mu \\:\\right)+\\frac{1}{n}\\cdot n\\left(\\overline{X}-\\mu \\:\\right)^2\\:\\right]=E\\left[\\frac{1}{n}\\sum _{i=1}^n\\left(X_i-\\mu \\right)^2-\\left(\\overline{X}-\\mu \\:\\right)^2\\:\\right]=E\\left[\\:\\frac{1}{n}\\sum \\:_{i=1}^n\\left(X_i-\\mu \\:\\right)^2\\right]-E\\left[\\left(\\overline{X}-\\mu \\:\\:\\right)^2\\right]=\\frac{n-1}{\\:n}\\sigma ^2\n",
    "$$"
   ]
  },
  {
   "cell_type": "markdown",
   "metadata": {},
   "source": [
    "(c)\n",
    "In general for unbiased estimation instead of 1/n, 1/(n-1) is taken.\n",
    "$$\n",
    "E\\left(\\frac{1}{n-1}\\cdot \\:\\sum \\:_{i=1}^n\\left(X_i-\\overline{X}\\right)^2\\:\\right)\n",
    "$$\n",
    "Which is equal to\n",
    "$$\n",
    "\\frac{n}{n-1}\\cdot E\\left(\\frac{1}{n}\\cdot \\:\\sum \\:_{i=1}^n\\left(X_i-\\overline{X}\\right)^2\\:\\right)\n",
    "$$\n",
    "$$\n",
    "\\frac{n}{n-1}\\cdot \\frac{n-1}{\\:n}\\sigma ^2 = \\sigma ^2\n",
    "$$"
   ]
  },
  {
   "cell_type": "markdown",
   "metadata": {
    "slideshow": {
     "slide_type": "slide"
    }
   },
   "source": [
    "<h3 align=\"center\">Problem 3: Correlation Table</h3>\n",
    "\n",
    "Given a **correlation table** of a random vector $(X,Y)$:\n",
    "\n",
    "| X\\Y |  -6  |  0  |   3  |\n",
    "|:---:|:----:|:---:|:----:|\n",
    "|  -2 |  0.1 |  0  |  0.2 |\n",
    "|  0  | 0.05 |  a  |   0  |\n",
    "|  1  |   0  | 0.2 | 0.05 |\n",
    "|  7  |  0.1 |  0  |  0.1 |\n",
    "\n",
    "\n",
    "(a) Find the **value** of the missing entry $a$;\n",
    "\n",
    "(b) Find the **distribution** of a random variable $X$, i.e. $\\operatorname{P}(X = x_i)$;\n",
    "\n",
    "(c) Find the **expectation** and **variance** of a random variable $X$, i.e. $\\operatorname{E}[X]$ and $\\operatorname{Var}[X]$;\n",
    "\n",
    "(d) Find the **distribution** of a random variable $Y$, i.e. $\\operatorname{P}(Y = y_i)$;\n",
    "\n",
    "(e) Find the **expectation** and **variance** of a random variable $Y$, i.e. $\\operatorname{E}[Y]$ and $\\operatorname{Var}[Y]$;\n",
    "\n",
    "(f) Find the **covariance** of the random variables $X$ and $Y$, i.e. $\\operatorname{Cov}(X, Y)$;\n",
    "\n",
    "(g) Find the **сorrelation сoefficient** of the random variables $X$ and $Y$, i.e. $\\rho(X, Y)$."
   ]
  },
  {
   "cell_type": "markdown",
   "metadata": {},
   "source": [
    "(a)\n",
    "$$\n",
    "0.1 + 0 + 0.2 + 0.05 + a + 0 + 0 + 0.2 + 0.05 + 0.1 + 0 + 0.1 = 1\n",
    "$$\n",
    "$$\n",
    "a = 0.2\n",
    "$$\n",
    "(b)\n",
    "$$\n",
    "P(-2) = 0.1 + 0 + 0.2 = 0.3\n",
    "$$\n",
    "$$\n",
    "P(0) = 0.05 + 0.2 + 0 = 0.25\n",
    "$$\n",
    "$$\n",
    "P(1) = 0 + 0.2 + 0.05 = 0.25\n",
    "$$\n",
    "$$\n",
    "P(7) = 0.1 + 0 + 0.1 = 0.2\n",
    "$$\n",
    "(c)\n",
    "$$\n",
    "E[X] = -2 \\cdot 0.3 + 0 \\cdot 0.25 + 1 \\cdot 0.25 + 7 \\cdot 0.2 = 1.05\n",
    "$$\n",
    "$$\n",
    "Var[X] = E[X^2] - E[X]^2 = -2^2 \\cdot 0.3 + 0^2 \\cdot 0.25 + 1^2 \\cdot 0.25 + 7^2 \\cdot 0.2  - 1.05^2 = 10.148\n",
    "$$\n",
    "(d)\n",
    "$$\n",
    "P(-6) = 0.1 + 0.05 + 0 + 0.1 = 0.25\n",
    "$$\n",
    "$$\n",
    "P(0) = 0 + 0.2 + 0.2 + 0 = 0.4\n",
    "$$\n",
    "$$\n",
    "P(3) = 0.2 + 0 + 0.05 + 0.1 = 0.35\n",
    "$$\n",
    "(e)\n",
    "$$\n",
    "E[Y] = -6 \\cdot 0.25 + 0 \\cdot 0.4 + 3 \\cdot 0.35 = -0.45\n",
    "$$\n",
    "$$\n",
    "Var[Y] = E[Y^2] - E[Y]^2 = 6^2 \\cdot 0.25 + 0^2 \\cdot 0.4 + 3^2 \\cdot 0.35 - 0.45^2 = 11.948\n",
    "$$\n",
    "(f)\n",
    "$$\n",
    "Cov(X, Y) = E[XY] - E[X]E[Y]\n",
    "$$\n",
    "$$\n",
    "E[XY] = \\sum _{b=1}^3\\sum _{a=1}^3x_a\\cdot y_b\\cdot \\left(x_a,\\:y_b\\right) = \n",
    "(-2) \\cdot (-6) \\cdot 0.1 + (-2) \\cdot 0 \\cdot 0 + (-2) \\cdot 3 \\cdot 0.2 +\n",
    "0 \\cdot (-6) \\cdot 0.5 + 0 \\cdot 0 \\cdot 0.2 + 0 \\cdot 3 \\cdot 0 +\n",
    "1 \\cdot (-6) \\cdot 0 + 1 \\cdot 0 \\cdot 0.2 + 1 \\cdot 3 \\cdot 0.05 +\n",
    "7 \\cdot -6 \\cdot 0.1 + 7 \\cdot 0 \\cdot 0 + 7 \\cdot 3 \\cdot 0.1 \n",
    "= \n",
    "-1.95\n",
    "$$\n",
    "$$Cov(X, Y) = -1.95 - 1.05 \\cdot (-0.45) = -1.478$$\n",
    "(g)\n",
    "$$\n",
    "\\rho(X, Y) = \\frac {Cov(X, Y)} { \\sqrt { Var[X] \\cdot Var[Y] }} = -0.134\n",
    "$$"
   ]
  },
  {
   "cell_type": "markdown",
   "metadata": {},
   "source": [
    "<h3 align=\"center\">Problem 4: Naive Bayes Algorithm</h3>\n",
    "\n",
    "Lets consider a dataset of a Car Showroom:\n",
    "\n",
    "| Car № |        Maker        |  Type  | Color | Sell |\n",
    "|:-----:|:-------------------:|:------:|:-----:|:----:|\n",
    "|   1   | TATA Motors Limited | Sports |  Red  |  Yes |\n",
    "|   2   |  FORD Motor Company | Sports | Black |  Yes |\n",
    "|   3   | TATA Motors Limited |   Suv  |  Red  |  No  |\n",
    "|   4   |  FORD Motor Company |   Suv  |  Red  |  No  |\n",
    "|   5   | TATA Motors Limited | Sports | Black |  Yes |\n",
    "|   6   |  FORD Motor Company | Sports | Black |  No  |\n",
    "|   7   | TATA Motors Limited |   Suv  |  Red  |  No  |\n",
    "|   8   | TATA Motors Limited |   Suv  |  Red  |  Yes |\n",
    "|   9   |  FORD Motor Company |   Suv  | Black |  No  |\n",
    "|   10  |  FORD Motor Company |   Suv  | Black |  Yes |\n",
    "\n",
    "1. Suppose that we have a **black sports** car manufactured by **TATA Motors**, what is the probability of selling it?\n",
    "\n",
    "2. Write a Python code that receives the **car parameter as input** and gives the **probability of selling the car as output**."
   ]
  },
  {
   "cell_type": "markdown",
   "metadata": {},
   "source": [
    "1.\n",
    "\n",
    "{A}: { Sell = Yes }\n",
    "\n",
    "{B_1}: { Maker = TATA }\n",
    "\n",
    "{B_2}: { Type = Sports }\n",
    "\n",
    "{B_3}: { Color = Black }\n",
    "\n",
    "$$\n",
    "P(A|B) = \\frac {P(B_1|A) P(B_2|A) P(B_3|A) P(A)} {P(B_1|A) P(B_2|A) P(B_3|A) P(A) + P(B_1|\\overline{A}) P(B_2|\\overline{A}) P(B_3|\\overline{A}) P(\\overline{A})} =\n",
    "\\frac {\\frac{3}{5} \\frac{3}{4} \\frac{3}{5} \\frac{1}{2}} {\\frac{3}{5} \\frac{3}{4} \\frac{3}{5} \\frac{1}{2} + \\frac{2}{5} \\frac{1}{4} \\frac{2}{5} \\frac{1}{2}} =\n",
    "\\frac {\\frac{27}{200}} {\\frac{27}{200} + \\frac{4}{200}} = \\frac{27}{31}\n",
    "$$\n",
    "\n",
    "**2.**"
   ]
  },
  {
   "cell_type": "code",
   "execution_count": 2,
   "metadata": {},
   "outputs": [
    {
     "data": {
      "text/plain": [
       "0.8709677419354839"
      ]
     },
     "execution_count": 2,
     "metadata": {},
     "output_type": "execute_result"
    }
   ],
   "source": [
    "data = [{'maker':'TATA','type':'Sports','color':'Red','sell':'Yes'},\n",
    "        {'maker':'FORD','type':'Sports','color':'Black','sell':'Yes'},\n",
    "        {'maker':'TATA','type':'Suv','color':'Red','sell':'No'},\n",
    "        {'maker':'FORD','type':'Suv','color':'Red','sell':'No'},\n",
    "        {'maker':'TATA','type':'Sports','color':'Black','sell':'Yes'},\n",
    "        {'maker':'FORD','type':'Sports','color':'Black','sell':'No'},\n",
    "        {'maker':'TATA','type':'Suv','color':'Red','sell':'No'},\n",
    "        {'maker':'TATA','type':'Suv','color':'Red','sell':'Yes'},\n",
    "        {'maker':'FORD','type':'Suv','color':'Black','sell':'No'},\n",
    "        {'maker':'FORD','type':'Suv','color':'Black','sell':'Yes'}]\n",
    "def _p(data,key='sell',value='Yes'):\n",
    "    count = 0;\n",
    "    for a in data:\n",
    "        if a[key] == value:\n",
    "            count = count + 1\n",
    "    return count/len(data)\n",
    "def _p1(data, key,value,key1 = 'sell',value1='Yes',inverse=False):\n",
    "    count = 0\n",
    "    count1 = 0\n",
    "    for a in data:\n",
    "        if a[key] == value:\n",
    "            count = count + 1\n",
    "            if inverse:\n",
    "                if a[key1] != value1:\n",
    "                    count1 = count1 + 1 \n",
    "            else:\n",
    "                if a[key1] == value1:\n",
    "                    count1 = count1 + 1 \n",
    "    return count1/count\n",
    "def calc(data,row):\n",
    "    return (_p1(data,'maker',row['maker'])*_p1(data,'type',row['type'])*_p1(data,'color',row['color'])*_p(data))/(_p1(data,'maker',row['maker'])*_p1(data,'type',row['type'])*_p1(data,'color',row['color'])*_p(data)+_p1(data,'maker',row['maker'],inverse=True)*_p1(data,'type',row['type'],inverse=True)*_p1(data,'color',row['color'],inverse=True)*_p(data,value='No'))\n",
    "\n",
    "calc(data,{'maker':'TATA','type':'Sports','color':'Black'})"
   ]
  },
  {
   "cell_type": "markdown",
   "metadata": {
    "slideshow": {
     "slide_type": "slide"
    }
   },
   "source": [
    "<h3 align=\"center\">Problem 5: Gradient Descent Method</h3>\n",
    "\n",
    "Given a function of two variables: \n",
    "$$f(x,y) = x^2 + 2y^2 + e^{x+y}.$$\n",
    "\n",
    "Find the minimum of this function using the gradient descent method.\n",
    "For initial data, take the following conditions:\n",
    "- starting point: $(0,0)$;\n",
    "- step size multiplier: $0.1$;\n",
    "- precision (absolute value of gradient): $0.05$.\n",
    "\n",
    "How many iterations are necessary to obtain the required precision? (write python code)."
   ]
  },
  {
   "cell_type": "code",
   "execution_count": 134,
   "metadata": {},
   "outputs": [
    {
     "name": "stdout",
     "output_type": "stream",
     "text": [
      "value  0.7725343258658006  in  10  steps\n"
     ]
    }
   ],
   "source": [
    "import numpy as np\n",
    "\n",
    "def f(x,y):\n",
    "    return x**2 + 2*y**2 + np.exp(x+y)\n",
    "def gra(x,y,n):\n",
    "    dx = 2*x + np.exp(x + y)\n",
    "    dy = 4*y + np.exp(x + y)\n",
    "    p = pr(dx,dy)\n",
    "    return x-n*dx, y-n*dy, p\n",
    "def pr(x,y):\n",
    "    return np.sqrt(x**2+y**2)\n",
    "\n",
    "def calc(x,y,n,p):\n",
    "    count = 1\n",
    "    x,y,pr = gra(x,y,n)\n",
    "    while p < pr and count<100:\n",
    "        x,y,pr = gra(x,y,n)\n",
    "        count=count+1\n",
    "    return f(x,y),count\n",
    "value, steps = calc(0,0,0.1,0.05)\n",
    "print('value ',value, ' in ',steps,' steps')\n"
   ]
  },
  {
   "cell_type": "markdown",
   "metadata": {
    "slideshow": {
     "slide_type": "slide"
    }
   },
   "source": [
    "<h3 align=\"center\">Problem 6: Automatic Differentiation</h3>\n",
    "\n",
    "Consider the function: $$z(x, y) = \\sin{\\left( x^2y + xy^2\\right )}.$$\n",
    "\n",
    "1. Build a **computation grap** and calculate the values for each node, propagating from the bottom (the input variables) to the top (the output function) at point $A = (1, 1)$.\n",
    "\n",
    "2. Consider the seed values $\\dot{w}_1 = \\frac{\\partial w_1}{\\partial x} = 1$ and $\\dot{w}_2 = \\frac{\\partial w_2}{\\partial x} = 1$, and calculate the partial derivatives of each connection between operations, represented by the edges, i.e. $\\dot{w}_i = \\frac{\\partial w_i}{\\partial x}$.\n",
    "\n",
    "3. Calculate the partial derivative $\\frac{\\partial z}{\\partial x}$ at point $A = (1, 1)$ using the **forward accumulation**.\n",
    "\n",
    "4. Consider the seed values $\\bar{w}_n = \\frac{\\partial z}{\\partial w_n} = 1$ and calculate the subexpresion varibales $\\bar{w}_i$ for each connection between operations, i.e. $\\bar{w}_i = \\frac{\\partial z}{\\partial w_i}$.\n",
    "\n",
    "5. Calculate the partial derivative $\\frac{\\partial z}{\\partial y}$ at point $A = (1, 1)$ using the **reverse accumulation**."
   ]
  },
  {
   "cell_type": "markdown",
   "metadata": {},
   "source": [
    "1.\n",
    "<img src=\"n6.png\" style = \"width:400px\"/> \n",
    "\n",
    "$$\n",
    "w_1 = x; w_2 = y;\n",
    "$$\n",
    "$$\n",
    "x = 1; y = 1;\n",
    "$$\n",
    "$$\n",
    "w_1 = 1;\n",
    "$$\n",
    "$$\n",
    "w_2 = 1;\n",
    "$$\n",
    "$$\n",
    "w_3 = w_1^2 = 1;\n",
    "$$\n",
    "$$\n",
    "w_4 = w_2 ^ 2 = 1\n",
    "$$\n",
    "$$\n",
    "w_5 = w_3 \\cdot w_2 = 1;\n",
    "$$\n",
    "$$\n",
    "w_6 = w_1 \\cdot w_4 = 1\n",
    "$$\n",
    "$$\n",
    "w_7 = w_5 + w_6 = 2;\n",
    "$$\n",
    "$$\n",
    "w_8 = sin(w_7) = sin(2)\n",
    "$$"
   ]
  },
  {
   "cell_type": "markdown",
   "metadata": {},
   "source": [
    "2.\n",
    "\n",
    "$$\n",
    "\\frac{d}{dw_1}\\left(w_6\\right)=\\frac{d}{dw_1}\\left(w_1\\cdot w_4\\right)=w_4=w_2^2\n",
    "$$\n",
    "$$\n",
    "\\frac{d}{dw_1}\\left(w_3\\right)=\\frac{d}{dw_1}\\left(w_1^2\\right)=2w_1\n",
    "$$\n",
    "$$\n",
    "\\frac{d}{dw_3}\\left(w_5\\right)=\\frac{d}{dw_3}\\left(w_3\\cdot w_2\\right)=w_2\n",
    "$$\n",
    "$$\n",
    "\\frac{d}{dw_7}\\left(w_8\\right)=\\frac{d}{dw_7}\\left(sin\\left(w_7\\right)\\right)=cos\\left(w_7\\right)\n",
    "$$\n",
    "$$\n",
    "\\frac{d}{dw_8}\\left(z\\right)=cos\\left(w_7\\right)\\left(2w_1w_2+w_2\\right)\n",
    "$$"
   ]
  },
  {
   "cell_type": "markdown",
   "metadata": {},
   "source": [
    "3.\n",
    "$$\n",
    "\\frac{d}{dw_8}\\left(z\\right)=cos\\left(2\\right)\\left(2+1\\right) = 3cos(2)\n",
    "$$"
   ]
  },
  {
   "cell_type": "markdown",
   "metadata": {},
   "source": [
    "4.\n",
    "$$\n",
    "\\frac{d}{dw_7}\\left(w_8\\right)=\\frac{d}{dw_7}\\left(sin\\left(w_7\\right)\\right)=cos\\left(w_7\\right)\n",
    "$$\n",
    "$$\n",
    "\\frac{d}{dw_3}\\left(w_5\\right)=\\frac{d}{dw_3}\\left(w_3\\cdot w_2\\right)\\cdot cos\\left(w_7\\right)=w_2\\cdot cos\\left(w_7\\right)\n",
    "$$\n",
    "$$\n",
    "\\frac{d}{dw_1}\\left(w_3\\right)=\\frac{d}{dw_1}\\left(w_1^2\\right)\\cdot w_2\\cdot \\:cos\\left(w_7\\right)=2w_1w_2\\cdot \\:cos\\left(w_7\\right)\n",
    "$$\n",
    "$$\n",
    "\\frac{d}{dw_1}\\left(w_6\\right)=\\frac{d}{dw_1}\\left(w_1w_4\\right)\\:cos\\left(w_7\\right)=w_4\\cdot \\:cos\\left(w_7\\right)=w_2^2\\cdot \\:\\:cos\\left(w_7\\right)\n",
    "$$\n",
    "$$\n",
    "\\frac{d}{dw_8}\\left(z\\right)=2w_1w_2\\cdot \\:cos\\left(w_7\\right)+w_2^2\\cdot \\:\\:cos\\left(w_7\\right)\n",
    "$$"
   ]
  },
  {
   "cell_type": "markdown",
   "metadata": {},
   "source": [
    "5.\n",
    "$$\n",
    "\\frac{d}{dw_8}\\left(z\\right)=2 \\cdot cos(2) + cos(2) = 3 \\cdot cos(2)\n",
    "$$"
   ]
  }
 ],
 "metadata": {
  "kernelspec": {
   "display_name": "Python 3",
   "language": "python",
   "name": "python3"
  },
  "language_info": {
   "codemirror_mode": {
    "name": "ipython",
    "version": 3
   },
   "file_extension": ".py",
   "mimetype": "text/x-python",
   "name": "python",
   "nbconvert_exporter": "python",
   "pygments_lexer": "ipython3",
   "version": "3.7.1"
  }
 },
 "nbformat": 4,
 "nbformat_minor": 2
}
